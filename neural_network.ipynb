{
 "cells": [
  {
   "cell_type": "markdown",
   "metadata": {},
   "source": [
    "# Neural networks"
   ]
  },
  {
   "cell_type": "markdown",
   "metadata": {},
   "source": [
    "--- Reading data"
   ]
  },
  {
   "cell_type": "code",
   "execution_count": 1,
   "metadata": {
    "collapsed": true
   },
   "outputs": [],
   "source": [
    "import pandas as pd\n",
    "import numpy as np\n",
    "np.random.seed(123)"
   ]
  },
  {
   "cell_type": "code",
   "execution_count": 2,
   "metadata": {
    "collapsed": true
   },
   "outputs": [],
   "source": [
    "file = pd.ExcelFile('churn_data_python.xls')"
   ]
  },
  {
   "cell_type": "code",
   "execution_count": 3,
   "metadata": {
    "collapsed": true
   },
   "outputs": [],
   "source": [
    "data = file.parse('bigml_5a132e5f7811dd1184001048')"
   ]
  },
  {
   "cell_type": "code",
   "execution_count": 4,
   "metadata": {},
   "outputs": [
    {
     "data": {
      "text/html": [
       "<div>\n",
       "<style scoped>\n",
       "    .dataframe tbody tr th:only-of-type {\n",
       "        vertical-align: middle;\n",
       "    }\n",
       "\n",
       "    .dataframe tbody tr th {\n",
       "        vertical-align: top;\n",
       "    }\n",
       "\n",
       "    .dataframe thead th {\n",
       "        text-align: right;\n",
       "    }\n",
       "</style>\n",
       "<table border=\"1\" class=\"dataframe\">\n",
       "  <thead>\n",
       "    <tr style=\"text-align: right;\">\n",
       "      <th></th>\n",
       "      <th>id</th>\n",
       "      <th>account_length</th>\n",
       "      <th>international_plan</th>\n",
       "      <th>voice_mail_plan</th>\n",
       "      <th>number_vmail_messages</th>\n",
       "      <th>total_day_minutes</th>\n",
       "      <th>total_day_calls</th>\n",
       "      <th>total_day_charge</th>\n",
       "      <th>total_eve_minutes</th>\n",
       "      <th>total_eve_calls</th>\n",
       "      <th>...</th>\n",
       "      <th>total_night_calls</th>\n",
       "      <th>total_night_charge</th>\n",
       "      <th>total_intl_minutes</th>\n",
       "      <th>total_intl_calls</th>\n",
       "      <th>total_intl_charge</th>\n",
       "      <th>customer_service_calls</th>\n",
       "      <th>churn</th>\n",
       "      <th>censor</th>\n",
       "      <th>start</th>\n",
       "      <th>end</th>\n",
       "    </tr>\n",
       "  </thead>\n",
       "  <tbody>\n",
       "    <tr>\n",
       "      <th>0</th>\n",
       "      <td>1</td>\n",
       "      <td>128</td>\n",
       "      <td>0</td>\n",
       "      <td>1</td>\n",
       "      <td>25</td>\n",
       "      <td>265.1</td>\n",
       "      <td>110</td>\n",
       "      <td>45.07</td>\n",
       "      <td>197.4</td>\n",
       "      <td>99</td>\n",
       "      <td>...</td>\n",
       "      <td>91</td>\n",
       "      <td>11.01</td>\n",
       "      <td>10.0</td>\n",
       "      <td>3</td>\n",
       "      <td>2.70</td>\n",
       "      <td>1</td>\n",
       "      <td>0</td>\n",
       "      <td>0</td>\n",
       "      <td>2001-01-01</td>\n",
       "      <td>2003-06-16</td>\n",
       "    </tr>\n",
       "    <tr>\n",
       "      <th>1</th>\n",
       "      <td>2</td>\n",
       "      <td>107</td>\n",
       "      <td>0</td>\n",
       "      <td>1</td>\n",
       "      <td>26</td>\n",
       "      <td>161.6</td>\n",
       "      <td>123</td>\n",
       "      <td>27.47</td>\n",
       "      <td>195.5</td>\n",
       "      <td>103</td>\n",
       "      <td>...</td>\n",
       "      <td>103</td>\n",
       "      <td>11.45</td>\n",
       "      <td>13.7</td>\n",
       "      <td>3</td>\n",
       "      <td>3.70</td>\n",
       "      <td>1</td>\n",
       "      <td>0</td>\n",
       "      <td>0</td>\n",
       "      <td>2001-01-02</td>\n",
       "      <td>2003-01-21</td>\n",
       "    </tr>\n",
       "    <tr>\n",
       "      <th>2</th>\n",
       "      <td>3</td>\n",
       "      <td>137</td>\n",
       "      <td>0</td>\n",
       "      <td>0</td>\n",
       "      <td>0</td>\n",
       "      <td>243.4</td>\n",
       "      <td>114</td>\n",
       "      <td>41.38</td>\n",
       "      <td>121.2</td>\n",
       "      <td>110</td>\n",
       "      <td>...</td>\n",
       "      <td>104</td>\n",
       "      <td>7.32</td>\n",
       "      <td>12.2</td>\n",
       "      <td>5</td>\n",
       "      <td>3.29</td>\n",
       "      <td>0</td>\n",
       "      <td>0</td>\n",
       "      <td>0</td>\n",
       "      <td>2001-01-03</td>\n",
       "      <td>2003-08-20</td>\n",
       "    </tr>\n",
       "    <tr>\n",
       "      <th>3</th>\n",
       "      <td>4</td>\n",
       "      <td>84</td>\n",
       "      <td>1</td>\n",
       "      <td>0</td>\n",
       "      <td>0</td>\n",
       "      <td>299.4</td>\n",
       "      <td>71</td>\n",
       "      <td>50.90</td>\n",
       "      <td>61.9</td>\n",
       "      <td>88</td>\n",
       "      <td>...</td>\n",
       "      <td>89</td>\n",
       "      <td>8.86</td>\n",
       "      <td>6.6</td>\n",
       "      <td>7</td>\n",
       "      <td>1.78</td>\n",
       "      <td>2</td>\n",
       "      <td>0</td>\n",
       "      <td>0</td>\n",
       "      <td>2001-01-04</td>\n",
       "      <td>2002-08-15</td>\n",
       "    </tr>\n",
       "    <tr>\n",
       "      <th>4</th>\n",
       "      <td>5</td>\n",
       "      <td>75</td>\n",
       "      <td>1</td>\n",
       "      <td>0</td>\n",
       "      <td>0</td>\n",
       "      <td>166.7</td>\n",
       "      <td>113</td>\n",
       "      <td>28.34</td>\n",
       "      <td>148.3</td>\n",
       "      <td>122</td>\n",
       "      <td>...</td>\n",
       "      <td>121</td>\n",
       "      <td>8.41</td>\n",
       "      <td>10.1</td>\n",
       "      <td>3</td>\n",
       "      <td>2.73</td>\n",
       "      <td>3</td>\n",
       "      <td>0</td>\n",
       "      <td>0</td>\n",
       "      <td>2001-01-05</td>\n",
       "      <td>2002-06-14</td>\n",
       "    </tr>\n",
       "  </tbody>\n",
       "</table>\n",
       "<p>5 rows × 22 columns</p>\n",
       "</div>"
      ],
      "text/plain": [
       "   id  account_length  international_plan  voice_mail_plan  \\\n",
       "0   1             128                   0                1   \n",
       "1   2             107                   0                1   \n",
       "2   3             137                   0                0   \n",
       "3   4              84                   1                0   \n",
       "4   5              75                   1                0   \n",
       "\n",
       "   number_vmail_messages  total_day_minutes  total_day_calls  \\\n",
       "0                     25              265.1              110   \n",
       "1                     26              161.6              123   \n",
       "2                      0              243.4              114   \n",
       "3                      0              299.4               71   \n",
       "4                      0              166.7              113   \n",
       "\n",
       "   total_day_charge  total_eve_minutes  total_eve_calls    ...      \\\n",
       "0             45.07              197.4               99    ...       \n",
       "1             27.47              195.5              103    ...       \n",
       "2             41.38              121.2              110    ...       \n",
       "3             50.90               61.9               88    ...       \n",
       "4             28.34              148.3              122    ...       \n",
       "\n",
       "   total_night_calls  total_night_charge  total_intl_minutes  \\\n",
       "0                 91               11.01                10.0   \n",
       "1                103               11.45                13.7   \n",
       "2                104                7.32                12.2   \n",
       "3                 89                8.86                 6.6   \n",
       "4                121                8.41                10.1   \n",
       "\n",
       "   total_intl_calls  total_intl_charge  customer_service_calls  churn  censor  \\\n",
       "0                 3               2.70                       1      0       0   \n",
       "1                 3               3.70                       1      0       0   \n",
       "2                 5               3.29                       0      0       0   \n",
       "3                 7               1.78                       2      0       0   \n",
       "4                 3               2.73                       3      0       0   \n",
       "\n",
       "       start        end  \n",
       "0 2001-01-01 2003-06-16  \n",
       "1 2001-01-02 2003-01-21  \n",
       "2 2001-01-03 2003-08-20  \n",
       "3 2001-01-04 2002-08-15  \n",
       "4 2001-01-05 2002-06-14  \n",
       "\n",
       "[5 rows x 22 columns]"
      ]
     },
     "execution_count": 4,
     "metadata": {},
     "output_type": "execute_result"
    }
   ],
   "source": [
    "data.head()"
   ]
  },
  {
   "cell_type": "code",
   "execution_count": 5,
   "metadata": {
    "collapsed": true
   },
   "outputs": [],
   "source": [
    "from  sklearn.utils import resample"
   ]
  },
  {
   "cell_type": "code",
   "execution_count": 6,
   "metadata": {
    "collapsed": true
   },
   "outputs": [],
   "source": [
    "data_maj = data[data.churn==0]\n",
    "data_min = data[data.churn==1]"
   ]
  },
  {
   "cell_type": "code",
   "execution_count": 7,
   "metadata": {
    "collapsed": true
   },
   "outputs": [],
   "source": [
    "data_min_upsampled = resample(data_min, \n",
    "                                 replace=True,     # sample with replacement\n",
    "                                 n_samples=2850,    # to match majority class\n",
    "                                 random_state=123) # reproducible results"
   ]
  },
  {
   "cell_type": "code",
   "execution_count": 8,
   "metadata": {
    "collapsed": true
   },
   "outputs": [],
   "source": [
    "dataset = pd.concat([data_maj, data_min_upsampled])"
   ]
  },
  {
   "cell_type": "code",
   "execution_count": 9,
   "metadata": {
    "collapsed": true
   },
   "outputs": [],
   "source": [
    "X = dataset.iloc[:, 1:18]"
   ]
  },
  {
   "cell_type": "code",
   "execution_count": 10,
   "metadata": {},
   "outputs": [
    {
     "data": {
      "text/html": [
       "<div>\n",
       "<style scoped>\n",
       "    .dataframe tbody tr th:only-of-type {\n",
       "        vertical-align: middle;\n",
       "    }\n",
       "\n",
       "    .dataframe tbody tr th {\n",
       "        vertical-align: top;\n",
       "    }\n",
       "\n",
       "    .dataframe thead th {\n",
       "        text-align: right;\n",
       "    }\n",
       "</style>\n",
       "<table border=\"1\" class=\"dataframe\">\n",
       "  <thead>\n",
       "    <tr style=\"text-align: right;\">\n",
       "      <th></th>\n",
       "      <th>account_length</th>\n",
       "      <th>international_plan</th>\n",
       "      <th>voice_mail_plan</th>\n",
       "      <th>number_vmail_messages</th>\n",
       "      <th>total_day_minutes</th>\n",
       "      <th>total_day_calls</th>\n",
       "      <th>total_day_charge</th>\n",
       "      <th>total_eve_minutes</th>\n",
       "      <th>total_eve_calls</th>\n",
       "      <th>total_ eve_charge</th>\n",
       "      <th>total_night_minutes</th>\n",
       "      <th>total_night_calls</th>\n",
       "      <th>total_night_charge</th>\n",
       "      <th>total_intl_minutes</th>\n",
       "      <th>total_intl_calls</th>\n",
       "      <th>total_intl_charge</th>\n",
       "      <th>customer_service_calls</th>\n",
       "    </tr>\n",
       "  </thead>\n",
       "  <tbody>\n",
       "    <tr>\n",
       "      <th>0</th>\n",
       "      <td>128</td>\n",
       "      <td>0</td>\n",
       "      <td>1</td>\n",
       "      <td>25</td>\n",
       "      <td>265.1</td>\n",
       "      <td>110</td>\n",
       "      <td>45.07</td>\n",
       "      <td>197.4</td>\n",
       "      <td>99</td>\n",
       "      <td>16.78</td>\n",
       "      <td>244.7</td>\n",
       "      <td>91</td>\n",
       "      <td>11.01</td>\n",
       "      <td>10.0</td>\n",
       "      <td>3</td>\n",
       "      <td>2.70</td>\n",
       "      <td>1</td>\n",
       "    </tr>\n",
       "    <tr>\n",
       "      <th>1</th>\n",
       "      <td>107</td>\n",
       "      <td>0</td>\n",
       "      <td>1</td>\n",
       "      <td>26</td>\n",
       "      <td>161.6</td>\n",
       "      <td>123</td>\n",
       "      <td>27.47</td>\n",
       "      <td>195.5</td>\n",
       "      <td>103</td>\n",
       "      <td>16.62</td>\n",
       "      <td>254.4</td>\n",
       "      <td>103</td>\n",
       "      <td>11.45</td>\n",
       "      <td>13.7</td>\n",
       "      <td>3</td>\n",
       "      <td>3.70</td>\n",
       "      <td>1</td>\n",
       "    </tr>\n",
       "    <tr>\n",
       "      <th>2</th>\n",
       "      <td>137</td>\n",
       "      <td>0</td>\n",
       "      <td>0</td>\n",
       "      <td>0</td>\n",
       "      <td>243.4</td>\n",
       "      <td>114</td>\n",
       "      <td>41.38</td>\n",
       "      <td>121.2</td>\n",
       "      <td>110</td>\n",
       "      <td>10.30</td>\n",
       "      <td>162.6</td>\n",
       "      <td>104</td>\n",
       "      <td>7.32</td>\n",
       "      <td>12.2</td>\n",
       "      <td>5</td>\n",
       "      <td>3.29</td>\n",
       "      <td>0</td>\n",
       "    </tr>\n",
       "    <tr>\n",
       "      <th>3</th>\n",
       "      <td>84</td>\n",
       "      <td>1</td>\n",
       "      <td>0</td>\n",
       "      <td>0</td>\n",
       "      <td>299.4</td>\n",
       "      <td>71</td>\n",
       "      <td>50.90</td>\n",
       "      <td>61.9</td>\n",
       "      <td>88</td>\n",
       "      <td>5.26</td>\n",
       "      <td>196.9</td>\n",
       "      <td>89</td>\n",
       "      <td>8.86</td>\n",
       "      <td>6.6</td>\n",
       "      <td>7</td>\n",
       "      <td>1.78</td>\n",
       "      <td>2</td>\n",
       "    </tr>\n",
       "    <tr>\n",
       "      <th>4</th>\n",
       "      <td>75</td>\n",
       "      <td>1</td>\n",
       "      <td>0</td>\n",
       "      <td>0</td>\n",
       "      <td>166.7</td>\n",
       "      <td>113</td>\n",
       "      <td>28.34</td>\n",
       "      <td>148.3</td>\n",
       "      <td>122</td>\n",
       "      <td>12.61</td>\n",
       "      <td>186.9</td>\n",
       "      <td>121</td>\n",
       "      <td>8.41</td>\n",
       "      <td>10.1</td>\n",
       "      <td>3</td>\n",
       "      <td>2.73</td>\n",
       "      <td>3</td>\n",
       "    </tr>\n",
       "  </tbody>\n",
       "</table>\n",
       "</div>"
      ],
      "text/plain": [
       "   account_length  international_plan  voice_mail_plan  number_vmail_messages  \\\n",
       "0             128                   0                1                     25   \n",
       "1             107                   0                1                     26   \n",
       "2             137                   0                0                      0   \n",
       "3              84                   1                0                      0   \n",
       "4              75                   1                0                      0   \n",
       "\n",
       "   total_day_minutes  total_day_calls  total_day_charge  total_eve_minutes  \\\n",
       "0              265.1              110             45.07              197.4   \n",
       "1              161.6              123             27.47              195.5   \n",
       "2              243.4              114             41.38              121.2   \n",
       "3              299.4               71             50.90               61.9   \n",
       "4              166.7              113             28.34              148.3   \n",
       "\n",
       "   total_eve_calls  total_ eve_charge  total_night_minutes  total_night_calls  \\\n",
       "0               99              16.78                244.7                 91   \n",
       "1              103              16.62                254.4                103   \n",
       "2              110              10.30                162.6                104   \n",
       "3               88               5.26                196.9                 89   \n",
       "4              122              12.61                186.9                121   \n",
       "\n",
       "   total_night_charge  total_intl_minutes  total_intl_calls  \\\n",
       "0               11.01                10.0                 3   \n",
       "1               11.45                13.7                 3   \n",
       "2                7.32                12.2                 5   \n",
       "3                8.86                 6.6                 7   \n",
       "4                8.41                10.1                 3   \n",
       "\n",
       "   total_intl_charge  customer_service_calls  \n",
       "0               2.70                       1  \n",
       "1               3.70                       1  \n",
       "2               3.29                       0  \n",
       "3               1.78                       2  \n",
       "4               2.73                       3  "
      ]
     },
     "execution_count": 10,
     "metadata": {},
     "output_type": "execute_result"
    }
   ],
   "source": [
    "X.head()"
   ]
  },
  {
   "cell_type": "code",
   "execution_count": 11,
   "metadata": {
    "collapsed": true
   },
   "outputs": [],
   "source": [
    "y = dataset.iloc[:, 18]"
   ]
  },
  {
   "cell_type": "code",
   "execution_count": 12,
   "metadata": {},
   "outputs": [
    {
     "data": {
      "text/plain": [
       "0    0\n",
       "1    0\n",
       "2    0\n",
       "3    0\n",
       "4    0\n",
       "Name: churn, dtype: int64"
      ]
     },
     "execution_count": 12,
     "metadata": {},
     "output_type": "execute_result"
    }
   ],
   "source": [
    "y.head()"
   ]
  },
  {
   "cell_type": "markdown",
   "metadata": {},
   "source": [
    "--- Initializing libraries"
   ]
  },
  {
   "cell_type": "code",
   "execution_count": 13,
   "metadata": {},
   "outputs": [
    {
     "name": "stderr",
     "output_type": "stream",
     "text": [
      "C:\\Users\\Ada\\AppData\\Local\\conda\\conda\\envs\\mgr\\lib\\site-packages\\h5py\\__init__.py:36: FutureWarning: Conversion of the second argument of issubdtype from `float` to `np.floating` is deprecated. In future, it will be treated as `np.float64 == np.dtype(float).type`.\n",
      "  from ._conv import register_converters as _register_converters\n",
      "Using TensorFlow backend.\n"
     ]
    }
   ],
   "source": [
    "import keras\n",
    "from keras.layers import Dense\n",
    "from keras.models import Sequential\n",
    "from keras.utils import to_categorical"
   ]
  },
  {
   "cell_type": "code",
   "execution_count": 14,
   "metadata": {
    "collapsed": true
   },
   "outputs": [],
   "source": [
    "n_cols = X.shape[1]"
   ]
  },
  {
   "cell_type": "code",
   "execution_count": 15,
   "metadata": {
    "collapsed": true
   },
   "outputs": [],
   "source": [
    "from sklearn.preprocessing import StandardScaler"
   ]
  },
  {
   "cell_type": "code",
   "execution_count": 16,
   "metadata": {
    "collapsed": true
   },
   "outputs": [],
   "source": [
    "sc = StandardScaler()"
   ]
  },
  {
   "cell_type": "code",
   "execution_count": 17,
   "metadata": {
    "collapsed": true
   },
   "outputs": [],
   "source": [
    "X = sc.fit_transform(X)"
   ]
  },
  {
   "cell_type": "markdown",
   "metadata": {},
   "source": [
    "--- First neural network model"
   ]
  },
  {
   "cell_type": "code",
   "execution_count": 18,
   "metadata": {
    "collapsed": true
   },
   "outputs": [],
   "source": [
    "from sklearn.datasets import make_classification\n",
    "from sklearn.model_selection import train_test_split\n",
    "\n",
    "\n",
    "X_train, X_test, y_train, y_test = train_test_split(X, y, test_size=0.3)"
   ]
  },
  {
   "cell_type": "code",
   "execution_count": 19,
   "metadata": {},
   "outputs": [
    {
     "name": "stdout",
     "output_type": "stream",
     "text": [
      "Epoch 1/100\n",
      "3990/3990 [==============================] - 1s 299us/step - loss: 0.6640 - acc: 0.6103\n",
      "Epoch 2/100\n",
      "3990/3990 [==============================] - 0s 69us/step - loss: 0.6073 - acc: 0.6822\n",
      "Epoch 3/100\n",
      "3990/3990 [==============================] - 0s 72us/step - loss: 0.5659 - acc: 0.7341\n",
      "Epoch 4/100\n",
      "3990/3990 [==============================] - 0s 72us/step - loss: 0.5319 - acc: 0.7594\n",
      "Epoch 5/100\n",
      "3990/3990 [==============================] - 0s 78us/step - loss: 0.5046 - acc: 0.7837\n",
      "Epoch 6/100\n",
      "3990/3990 [==============================] - 0s 72us/step - loss: 0.4824 - acc: 0.8035\n",
      "Epoch 7/100\n",
      "3990/3990 [==============================] - 0s 66us/step - loss: 0.4648 - acc: 0.8145\n",
      "Epoch 8/100\n",
      "3990/3990 [==============================] - 0s 64us/step - loss: 0.4502 - acc: 0.8218\n",
      "Epoch 9/100\n",
      "3990/3990 [==============================] - 0s 61us/step - loss: 0.4374 - acc: 0.8301\n",
      "Epoch 10/100\n",
      "3990/3990 [==============================] - 0s 60us/step - loss: 0.4272 - acc: 0.8328\n",
      "Epoch 11/100\n",
      "3990/3990 [==============================] - 0s 55us/step - loss: 0.4180 - acc: 0.8396\n",
      "Epoch 12/100\n",
      "3990/3990 [==============================] - 0s 53us/step - loss: 0.4101 - acc: 0.8449\n",
      "Epoch 13/100\n",
      "3990/3990 [==============================] - 0s 53us/step - loss: 0.4035 - acc: 0.8486\n",
      "Epoch 14/100\n",
      "3990/3990 [==============================] - 0s 48us/step - loss: 0.3970 - acc: 0.8514\n",
      "Epoch 15/100\n",
      "3990/3990 [==============================] - 0s 51us/step - loss: 0.3915 - acc: 0.8504\n",
      "Epoch 16/100\n",
      "3990/3990 [==============================] - 0s 49us/step - loss: 0.3864 - acc: 0.8519\n",
      "Epoch 17/100\n",
      "3990/3990 [==============================] - 0s 45us/step - loss: 0.3817 - acc: 0.8554\n",
      "Epoch 18/100\n",
      "3990/3990 [==============================] - 0s 46us/step - loss: 0.3776 - acc: 0.8551\n",
      "Epoch 19/100\n",
      "3990/3990 [==============================] - 0s 45us/step - loss: 0.3738 - acc: 0.8521\n",
      "Epoch 20/100\n",
      "3990/3990 [==============================] - 0s 44us/step - loss: 0.3700 - acc: 0.8576\n",
      "Epoch 21/100\n",
      "3990/3990 [==============================] - 0s 44us/step - loss: 0.3666 - acc: 0.8579\n",
      "Epoch 22/100\n",
      "3990/3990 [==============================] - 0s 44us/step - loss: 0.3639 - acc: 0.8571\n",
      "Epoch 23/100\n",
      "3990/3990 [==============================] - 0s 42us/step - loss: 0.3606 - acc: 0.8619\n",
      "Epoch 24/100\n",
      "3990/3990 [==============================] - 0s 40us/step - loss: 0.3580 - acc: 0.8602\n",
      "Epoch 25/100\n",
      "3990/3990 [==============================] - 0s 41us/step - loss: 0.3558 - acc: 0.8629\n",
      "Epoch 26/100\n",
      "3990/3990 [==============================] - 0s 40us/step - loss: 0.3534 - acc: 0.8624\n",
      "Epoch 27/100\n",
      "3990/3990 [==============================] - 0s 38us/step - loss: 0.3509 - acc: 0.8637\n",
      "Epoch 28/100\n",
      "3990/3990 [==============================] - 0s 37us/step - loss: 0.3487 - acc: 0.8629\n",
      "Epoch 29/100\n",
      "3990/3990 [==============================] - 0s 37us/step - loss: 0.3468 - acc: 0.8652\n",
      "Epoch 30/100\n",
      "3990/3990 [==============================] - 0s 36us/step - loss: 0.3447 - acc: 0.8667\n",
      "Epoch 31/100\n",
      "3990/3990 [==============================] - 0s 35us/step - loss: 0.3430 - acc: 0.8664\n",
      "Epoch 32/100\n",
      "3990/3990 [==============================] - 0s 34us/step - loss: 0.3415 - acc: 0.8654\n",
      "Epoch 33/100\n",
      "3990/3990 [==============================] - 0s 34us/step - loss: 0.3396 - acc: 0.8642\n",
      "Epoch 34/100\n",
      "3990/3990 [==============================] - 0s 34us/step - loss: 0.3381 - acc: 0.8677\n",
      "Epoch 35/100\n",
      "3990/3990 [==============================] - 0s 33us/step - loss: 0.3364 - acc: 0.8717\n",
      "Epoch 36/100\n",
      "3990/3990 [==============================] - 0s 32us/step - loss: 0.3351 - acc: 0.8692\n",
      "Epoch 37/100\n",
      "3990/3990 [==============================] - 0s 33us/step - loss: 0.3334 - acc: 0.8712\n",
      "Epoch 38/100\n",
      "3990/3990 [==============================] - 0s 32us/step - loss: 0.3319 - acc: 0.8694\n",
      "Epoch 39/100\n",
      "3990/3990 [==============================] - 0s 32us/step - loss: 0.3305 - acc: 0.8722\n",
      "Epoch 40/100\n",
      "3990/3990 [==============================] - 0s 26us/step - loss: 0.3289 - acc: 0.8694\n",
      "Epoch 41/100\n",
      "3990/3990 [==============================] - 0s 23us/step - loss: 0.3277 - acc: 0.8729\n",
      "Epoch 42/100\n",
      "3990/3990 [==============================] - 0s 24us/step - loss: 0.3266 - acc: 0.8727\n",
      "Epoch 43/100\n",
      "3990/3990 [==============================] - 0s 24us/step - loss: 0.3249 - acc: 0.8734\n",
      "Epoch 44/100\n",
      "3990/3990 [==============================] - 0s 24us/step - loss: 0.3241 - acc: 0.8759\n",
      "Epoch 45/100\n",
      "3990/3990 [==============================] - 0s 23us/step - loss: 0.3227 - acc: 0.8714\n",
      "Epoch 46/100\n",
      "3990/3990 [==============================] - 0s 24us/step - loss: 0.3220 - acc: 0.8759\n",
      "Epoch 47/100\n",
      "3990/3990 [==============================] - 0s 24us/step - loss: 0.3212 - acc: 0.8744\n",
      "Epoch 48/100\n",
      "3990/3990 [==============================] - 0s 23us/step - loss: 0.3197 - acc: 0.8757\n",
      "Epoch 49/100\n",
      "3990/3990 [==============================] - 0s 24us/step - loss: 0.3191 - acc: 0.8744\n",
      "Epoch 50/100\n",
      "3990/3990 [==============================] - 0s 24us/step - loss: 0.3181 - acc: 0.8764\n",
      "Epoch 51/100\n",
      "3990/3990 [==============================] - ETA: 0s - loss: 0.3036 - acc: 0.883 - 0s 24us/step - loss: 0.3171 - acc: 0.8764\n",
      "Epoch 52/100\n",
      "3990/3990 [==============================] - 0s 23us/step - loss: 0.3169 - acc: 0.8759\n",
      "Epoch 53/100\n",
      "3990/3990 [==============================] - 0s 23us/step - loss: 0.3155 - acc: 0.8762\n",
      "Epoch 54/100\n",
      "3990/3990 [==============================] - 0s 23us/step - loss: 0.3147 - acc: 0.8772\n",
      "Epoch 55/100\n",
      "3990/3990 [==============================] - 0s 24us/step - loss: 0.3136 - acc: 0.8784\n",
      "Epoch 56/100\n",
      "3990/3990 [==============================] - 0s 23us/step - loss: 0.3129 - acc: 0.8779\n",
      "Epoch 57/100\n",
      "3990/3990 [==============================] - 0s 23us/step - loss: 0.3121 - acc: 0.8769\n",
      "Epoch 58/100\n",
      "3990/3990 [==============================] - 0s 23us/step - loss: 0.3113 - acc: 0.8772\n",
      "Epoch 59/100\n",
      "3990/3990 [==============================] - 0s 24us/step - loss: 0.3109 - acc: 0.8772\n",
      "Epoch 60/100\n",
      "3990/3990 [==============================] - 0s 24us/step - loss: 0.3101 - acc: 0.8782\n",
      "Epoch 61/100\n",
      "3990/3990 [==============================] - 0s 23us/step - loss: 0.3095 - acc: 0.8754\n",
      "Epoch 62/100\n",
      "3990/3990 [==============================] - 0s 23us/step - loss: 0.3087 - acc: 0.8784\n",
      "Epoch 63/100\n",
      "3990/3990 [==============================] - 0s 23us/step - loss: 0.3082 - acc: 0.8825\n",
      "Epoch 64/100\n",
      "3990/3990 [==============================] - 0s 23us/step - loss: 0.3075 - acc: 0.8799\n",
      "Epoch 65/100\n",
      "3990/3990 [==============================] - 0s 23us/step - loss: 0.3074 - acc: 0.8817\n",
      "Epoch 66/100\n",
      "3990/3990 [==============================] - 0s 24us/step - loss: 0.3066 - acc: 0.8799\n",
      "Epoch 67/100\n",
      "3990/3990 [==============================] - 0s 24us/step - loss: 0.3059 - acc: 0.8805\n",
      "Epoch 68/100\n",
      "3990/3990 [==============================] - 0s 23us/step - loss: 0.3054 - acc: 0.8827\n",
      "Epoch 69/100\n",
      "3990/3990 [==============================] - 0s 20us/step - loss: 0.3050 - acc: 0.8812\n",
      "Epoch 70/100\n",
      "3990/3990 [==============================] - 0s 22us/step - loss: 0.3046 - acc: 0.8820\n",
      "Epoch 71/100\n",
      "3990/3990 [==============================] - 0s 22us/step - loss: 0.3040 - acc: 0.8820\n",
      "Epoch 72/100\n",
      "3990/3990 [==============================] - 0s 22us/step - loss: 0.3036 - acc: 0.8830\n",
      "Epoch 73/100\n",
      "3990/3990 [==============================] - 0s 23us/step - loss: 0.3029 - acc: 0.8805\n",
      "Epoch 74/100\n",
      "3990/3990 [==============================] - 0s 23us/step - loss: 0.3025 - acc: 0.8810\n",
      "Epoch 75/100\n",
      "3990/3990 [==============================] - 0s 21us/step - loss: 0.3022 - acc: 0.8822\n",
      "Epoch 76/100\n",
      "3990/3990 [==============================] - 0s 23us/step - loss: 0.3018 - acc: 0.8835\n",
      "Epoch 77/100\n",
      "3990/3990 [==============================] - 0s 23us/step - loss: 0.3012 - acc: 0.8820\n",
      "Epoch 78/100\n",
      "3990/3990 [==============================] - 0s 22us/step - loss: 0.3005 - acc: 0.8817\n",
      "Epoch 79/100\n",
      "3990/3990 [==============================] - 0s 22us/step - loss: 0.3003 - acc: 0.8840\n",
      "Epoch 80/100\n",
      "3990/3990 [==============================] - 0s 22us/step - loss: 0.2998 - acc: 0.8832\n",
      "Epoch 81/100\n",
      "3990/3990 [==============================] - 0s 21us/step - loss: 0.2995 - acc: 0.8845\n",
      "Epoch 82/100\n",
      "3990/3990 [==============================] - 0s 22us/step - loss: 0.2991 - acc: 0.8840\n",
      "Epoch 83/100\n",
      "3990/3990 [==============================] - 0s 22us/step - loss: 0.2988 - acc: 0.8832\n",
      "Epoch 84/100\n",
      "3990/3990 [==============================] - 0s 22us/step - loss: 0.2986 - acc: 0.8842\n",
      "Epoch 85/100\n",
      "3990/3990 [==============================] - 0s 22us/step - loss: 0.2978 - acc: 0.8852\n",
      "Epoch 86/100\n",
      "3990/3990 [==============================] - 0s 22us/step - loss: 0.2977 - acc: 0.8840\n",
      "Epoch 87/100\n",
      "3990/3990 [==============================] - 0s 22us/step - loss: 0.2973 - acc: 0.8832\n",
      "Epoch 88/100\n",
      "3990/3990 [==============================] - 0s 22us/step - loss: 0.2969 - acc: 0.8837\n",
      "Epoch 89/100\n",
      "3990/3990 [==============================] - 0s 22us/step - loss: 0.2966 - acc: 0.8845\n",
      "Epoch 90/100\n",
      "3990/3990 [==============================] - 0s 22us/step - loss: 0.2961 - acc: 0.8835\n",
      "Epoch 91/100\n",
      "3990/3990 [==============================] - 0s 21us/step - loss: 0.2960 - acc: 0.8852\n",
      "Epoch 92/100\n",
      "3990/3990 [==============================] - 0s 19us/step - loss: 0.2951 - acc: 0.8845\n",
      "Epoch 93/100\n",
      "3990/3990 [==============================] - 0s 19us/step - loss: 0.2955 - acc: 0.8842\n",
      "Epoch 94/100\n",
      "3990/3990 [==============================] - 0s 19us/step - loss: 0.2948 - acc: 0.8827\n",
      "Epoch 95/100\n",
      "3990/3990 [==============================] - 0s 18us/step - loss: 0.2944 - acc: 0.8837\n",
      "Epoch 96/100\n",
      "3990/3990 [==============================] - 0s 18us/step - loss: 0.2944 - acc: 0.8850\n",
      "Epoch 97/100\n",
      "3990/3990 [==============================] - 0s 19us/step - loss: 0.2941 - acc: 0.8845\n",
      "Epoch 98/100\n",
      "3990/3990 [==============================] - 0s 18us/step - loss: 0.2935 - acc: 0.8837\n",
      "Epoch 99/100\n",
      "3990/3990 [==============================] - 0s 19us/step - loss: 0.2933 - acc: 0.8840\n",
      "Epoch 100/100\n",
      "3990/3990 [==============================] - 0s 19us/step - loss: 0.2930 - acc: 0.8845\n"
     ]
    },
    {
     "data": {
      "text/plain": [
       "<keras.callbacks.History at 0xa78ed00978>"
      ]
     },
     "execution_count": 19,
     "metadata": {},
     "output_type": "execute_result"
    }
   ],
   "source": [
    "from keras.models import Sequential\n",
    "from keras.layers import Dense\n",
    "\n",
    "def build_model():\n",
    "    model = Sequential()\n",
    "    model.add(Dense(17, input_shape=(n_cols,), activation='relu'))\n",
    "    model.add(Dense(1, activation='sigmoid'))\n",
    "    # Compile model\n",
    "    model.compile(loss='binary_crossentropy', optimizer='adam', metrics=['accuracy'])\n",
    "    return model\n",
    "\n",
    "from keras.wrappers.scikit_learn import KerasClassifier\n",
    "keras_model = build_model()\n",
    "keras_model.fit(X_train, y_train, epochs=100, batch_size=100, verbose=1)"
   ]
  },
  {
   "cell_type": "code",
   "execution_count": 20,
   "metadata": {},
   "outputs": [
    {
     "name": "stdout",
     "output_type": "stream",
     "text": [
      "_________________________________________________________________\n",
      "Layer (type)                 Output Shape              Param #   \n",
      "=================================================================\n",
      "dense_1 (Dense)              (None, 17)                306       \n",
      "_________________________________________________________________\n",
      "dense_2 (Dense)              (None, 1)                 18        \n",
      "=================================================================\n",
      "Total params: 324\n",
      "Trainable params: 324\n",
      "Non-trainable params: 0\n",
      "_________________________________________________________________\n"
     ]
    }
   ],
   "source": [
    "keras_model.summary()"
   ]
  },
  {
   "cell_type": "markdown",
   "metadata": {},
   "source": [
    "ROC curve on the training set"
   ]
  },
  {
   "cell_type": "code",
   "execution_count": 21,
   "metadata": {
    "collapsed": true
   },
   "outputs": [],
   "source": [
    "from sklearn.metrics import roc_curve\n",
    "y_pred_keras = keras_model.predict(X_test).ravel()\n",
    "fpr_keras, tpr_keras, thresholds_keras = roc_curve(y_test, y_pred_keras)"
   ]
  },
  {
   "cell_type": "code",
   "execution_count": 22,
   "metadata": {
    "collapsed": true
   },
   "outputs": [],
   "source": [
    "from sklearn.metrics import auc\n",
    "auc_keras = auc(fpr_keras, tpr_keras)"
   ]
  },
  {
   "cell_type": "code",
   "execution_count": 23,
   "metadata": {},
   "outputs": [
    {
     "data": {
      "text/plain": [
       "0.9367668042481062"
      ]
     },
     "execution_count": 23,
     "metadata": {},
     "output_type": "execute_result"
    }
   ],
   "source": [
    "auc_keras"
   ]
  },
  {
   "cell_type": "code",
   "execution_count": 24,
   "metadata": {
    "collapsed": true
   },
   "outputs": [],
   "source": [
    "from matplotlib import pyplot as plt"
   ]
  },
  {
   "cell_type": "code",
   "execution_count": 25,
   "metadata": {},
   "outputs": [
    {
     "data": {
      "image/png": "[encoded data removed]",
      "text/plain": [
       "<Figure size 432x288 with 1 Axes>"
      ]
     },
     "metadata": {},
     "output_type": "display_data"
    }
   ],
   "source": [
    "plt.figure(1)\n",
    "plt.plot([0, 1], [0, 1], 'k--')\n",
    "plt.plot(fpr_keras, tpr_keras, label='Keras (area = {:.3f})'.format(auc_keras))\n",
    "plt.xlabel('False positive rate')\n",
    "plt.ylabel('True positive rate')\n",
    "plt.title('Zbiór testowy')\n",
    "plt.legend(loc='best')\n",
    "plt.show()"
   ]
  },
  {
   "cell_type": "markdown",
   "metadata": {},
   "source": [
    "ROC curve on the test set"
   ]
  },
  {
   "cell_type": "code",
   "execution_count": 26,
   "metadata": {
    "collapsed": true
   },
   "outputs": [],
   "source": [
    "from sklearn.metrics import roc_curve\n",
    "y_pred_keras_train = keras_model.predict(X_train).ravel()\n",
    "fpr_keras, tpr_keras, thresholds_keras = roc_curve(y_train, y_pred_keras_train)"
   ]
  },
  {
   "cell_type": "code",
   "execution_count": 27,
   "metadata": {
    "collapsed": true
   },
   "outputs": [],
   "source": [
    "from sklearn.metrics import auc\n",
    "auc_keras = auc(fpr_keras, tpr_keras)"
   ]
  },
  {
   "cell_type": "code",
   "execution_count": 28,
   "metadata": {},
   "outputs": [
    {
     "data": {
      "text/plain": [
       "0.9479429572299829"
      ]
     },
     "execution_count": 28,
     "metadata": {},
     "output_type": "execute_result"
    }
   ],
   "source": [
    "auc_keras"
   ]
  },
  {
   "cell_type": "code",
   "execution_count": 29,
   "metadata": {},
   "outputs": [
    {
     "data": {
      "image/png": "[encoded data removed]",
      "text/plain": [
       "<Figure size 432x288 with 1 Axes>"
      ]
     },
     "metadata": {},
     "output_type": "display_data"
    }
   ],
   "source": [
    "plt.figure(1)\n",
    "plt.plot([0, 1], [0, 1], 'k--')\n",
    "plt.plot(fpr_keras, tpr_keras, label='Keras (area = {:.3f})'.format(auc_keras))\n",
    "plt.xlabel('False positive rate')\n",
    "plt.ylabel('True positive rate')\n",
    "plt.title('Zbiór uczący')\n",
    "plt.legend(loc='best')\n",
    "plt.show()"
   ]
  },
  {
   "cell_type": "markdown",
   "metadata": {},
   "source": [
    "Confusion matrix on the training set"
   ]
  },
  {
   "cell_type": "code",
   "execution_count": 30,
   "metadata": {
    "collapsed": true
   },
   "outputs": [],
   "source": [
    "from sklearn.metrics import confusion_matrix "
   ]
  },
  {
   "cell_type": "code",
   "execution_count": 31,
   "metadata": {
    "collapsed": true
   },
   "outputs": [],
   "source": [
    "pred = y_pred_keras>=0.5"
   ]
  },
  {
   "cell_type": "code",
   "execution_count": 32,
   "metadata": {
    "collapsed": true
   },
   "outputs": [],
   "source": [
    "confusion = confusion_matrix(y_test,pred)"
   ]
  },
  {
   "cell_type": "code",
   "execution_count": 33,
   "metadata": {},
   "outputs": [
    {
     "data": {
      "text/plain": [
       "array([[757,  90],\n",
       "       [116, 747]], dtype=int64)"
      ]
     },
     "execution_count": 33,
     "metadata": {},
     "output_type": "execute_result"
    }
   ],
   "source": [
    "confusion"
   ]
  },
  {
   "cell_type": "markdown",
   "metadata": {},
   "source": [
    "Classification report"
   ]
  },
  {
   "cell_type": "code",
   "execution_count": 34,
   "metadata": {
    "collapsed": true
   },
   "outputs": [],
   "source": [
    "from sklearn.metrics import classification_report"
   ]
  },
  {
   "cell_type": "code",
   "execution_count": 35,
   "metadata": {},
   "outputs": [
    {
     "name": "stdout",
     "output_type": "stream",
     "text": [
      "             precision    recall  f1-score   support\n",
      "\n",
      "          0       0.87      0.89      0.88       847\n",
      "          1       0.89      0.87      0.88       863\n",
      "\n",
      "avg / total       0.88      0.88      0.88      1710\n",
      "\n"
     ]
    }
   ],
   "source": [
    "classification = classification_report(y_test, pred)\n",
    "print(classification)"
   ]
  },
  {
   "cell_type": "code",
   "execution_count": 36,
   "metadata": {},
   "outputs": [
    {
     "data": {
      "text/plain": [
       "0.87953216374269"
      ]
     },
     "execution_count": 36,
     "metadata": {},
     "output_type": "execute_result"
    }
   ],
   "source": [
    "from sklearn.metrics import accuracy_score\n",
    "acc = accuracy_score(y_test, pred)\n",
    "acc"
   ]
  },
  {
   "cell_type": "code",
   "execution_count": 37,
   "metadata": {},
   "outputs": [
    {
     "data": {
      "text/plain": [
       "0.8864661654135338"
      ]
     },
     "execution_count": 37,
     "metadata": {},
     "output_type": "execute_result"
    }
   ],
   "source": [
    "pred_tr = keras_model.predict(X_train)\n",
    "pred_tr = pred_tr>=0.5\n",
    "acc2 = accuracy_score(y_train, pred_tr)\n",
    "acc2"
   ]
  },
  {
   "cell_type": "code",
   "execution_count": 38,
   "metadata": {},
   "outputs": [
    {
     "data": {
      "text/plain": [
       "[array([[ 1.74969390e-01, -4.22244430e-01,  2.61682749e-01,\n",
       "          1.70057952e-01,  2.54722327e-01,  2.99636781e-01,\n",
       "         -3.66318882e-01, -4.05696295e-02, -5.98923117e-02,\n",
       "         -3.39457273e-01,  2.90022064e-02,  2.50467390e-01,\n",
       "         -3.90709043e-02, -2.97637433e-01, -2.07973748e-01,\n",
       "         -2.07138106e-01,  4.57980424e-01],\n",
       "        [-2.82356709e-01, -4.72056448e-01,  4.64720726e-01,\n",
       "         -2.32998729e-01, -2.17463046e-01, -3.69418979e-01,\n",
       "          4.76067096e-01, -2.16077253e-01, -1.26766896e+00,\n",
       "         -6.57769144e-01,  2.39328891e-01, -2.29337007e-01,\n",
       "          4.93284166e-01, -1.28880769e-01, -5.01627564e-01,\n",
       "         -4.51400995e-01,  1.80063352e-01],\n",
       "        [ 2.29210034e-01, -7.00729415e-02, -4.42153722e-01,\n",
       "         -1.37118876e-01,  6.16026163e-01, -5.93115032e-01,\n",
       "         -3.48468453e-01,  2.88307220e-01,  4.22747552e-01,\n",
       "          3.77326995e-01,  4.75156726e-03,  5.02856910e-01,\n",
       "         -7.00491428e-01,  7.00589836e-01,  2.27589220e-01,\n",
       "          1.76376894e-01, -1.33605018e-01],\n",
       "        [-3.38289857e-01, -2.28943601e-01, -9.10138309e-01,\n",
       "          1.14661515e-01,  1.03602789e-01, -3.36555034e-01,\n",
       "         -2.30606079e-01,  1.54771402e-01, -1.59898940e-02,\n",
       "         -4.37777579e-01,  5.66792428e-01,  1.27618432e-01,\n",
       "         -7.99109757e-01, -7.30703250e-02,  2.64690608e-01,\n",
       "         -1.95419952e-01, -5.69245458e-01],\n",
       "        [ 1.13143295e-03,  2.69357294e-01,  7.42183268e-01,\n",
       "         -4.56055343e-01,  5.27110919e-02,  8.76038849e-01,\n",
       "          4.74723101e-01,  5.03488123e-01, -4.23809081e-01,\n",
       "         -3.33359778e-01, -9.53113198e-01, -8.02833289e-02,\n",
       "          2.34416276e-02,  9.78971273e-03, -1.81783974e-01,\n",
       "          1.32972389e-01,  2.52321154e-01],\n",
       "        [ 4.30737704e-01,  3.46776582e-02, -2.51910448e-01,\n",
       "         -1.94395497e-01, -2.19637021e-01, -2.76707560e-01,\n",
       "          2.13881820e-01,  1.48100987e-01,  4.81482744e-01,\n",
       "         -5.28707728e-02, -5.42522788e-01, -4.53578293e-01,\n",
       "         -6.71359152e-02, -1.56525508e-01, -2.54169941e-01,\n",
       "          7.32284725e-01, -5.65810859e-01],\n",
       "        [ 2.16358662e-01, -4.10491884e-01,  3.56391966e-01,\n",
       "         -3.34124953e-01,  4.86216038e-01,  9.51142669e-01,\n",
       "          3.56683820e-01,  8.50490451e-01,  1.94365203e-01,\n",
       "         -3.64288837e-01, -7.61284471e-01, -2.46503249e-01,\n",
       "          2.74433553e-01,  2.08043098e-01,  6.85228184e-02,\n",
       "         -1.23554142e-02,  1.62101477e-01],\n",
       "        [-6.31514847e-01, -6.37061477e-01,  3.75385851e-01,\n",
       "         -6.83596209e-02, -9.74543020e-02,  3.86770874e-01,\n",
       "          6.91086650e-01, -1.56288072e-01,  1.45899653e-01,\n",
       "          5.65158352e-02, -4.46683466e-01,  1.75534070e-01,\n",
       "         -3.15033793e-01,  2.12796610e-02, -3.71009797e-01,\n",
       "         -3.37889194e-01,  6.90449357e-01],\n",
       "        [-3.72388065e-02,  2.56116718e-01, -2.34769136e-01,\n",
       "         -4.42839682e-01,  1.00741116e-02, -1.31714158e-03,\n",
       "         -5.89907408e-01,  3.33146304e-01, -5.13569832e-01,\n",
       "          5.48798740e-01, -8.23156834e-02, -2.52498053e-02,\n",
       "          5.99012747e-02, -2.03543514e-01, -7.97860444e-01,\n",
       "         -1.21388799e-02,  1.63320284e-02],\n",
       "        [-3.45654249e-01,  7.48168528e-02,  1.09612599e-01,\n",
       "          9.37500596e-02,  5.07649839e-01,  6.43642128e-01,\n",
       "          2.27091432e-01,  4.03763235e-01,  3.70513618e-01,\n",
       "         -3.35243642e-01, -4.48187329e-02, -3.41116823e-02,\n",
       "          3.22084755e-01,  3.45409870e-01,  7.47392848e-02,\n",
       "         -2.84268737e-01,  6.32244349e-01],\n",
       "        [ 3.62886101e-01, -5.73897958e-02,  1.61805183e-01,\n",
       "          1.57003939e-01,  1.50267184e-01,  2.44278178e-01,\n",
       "          5.39062880e-02, -9.95678306e-02, -2.79222667e-01,\n",
       "          1.60020217e-01, -2.03952163e-01,  4.81524974e-01,\n",
       "          2.59070843e-01, -5.18084347e-01,  3.21065485e-02,\n",
       "         -1.77876741e-01,  7.91086704e-02],\n",
       "        [-4.03676294e-02, -2.82068282e-01,  5.61944246e-02,\n",
       "          8.18110928e-02, -3.38706940e-01, -2.37540647e-01,\n",
       "          2.05736712e-01, -3.02935332e-01, -5.21454871e-01,\n",
       "          2.41431165e-02,  1.08378753e-01, -4.21859413e-01,\n",
       "         -3.28285410e-03, -2.45053526e-02,  4.49313700e-01,\n",
       "         -5.74271798e-01, -2.92155474e-01],\n",
       "        [ 2.15156134e-02, -5.96300900e-01,  2.29836315e-01,\n",
       "          2.37733185e-01, -3.09115052e-01,  9.34728310e-02,\n",
       "         -4.78127562e-02,  1.35191128e-01,  1.65574878e-01,\n",
       "         -1.99348822e-01, -1.36767831e-02,  2.94788748e-01,\n",
       "         -3.91558766e-01, -4.99429367e-03, -4.83843178e-01,\n",
       "         -1.06685013e-01, -2.52575730e-03],\n",
       "        [ 2.61282206e-01, -1.78557679e-01,  4.83816504e-01,\n",
       "          4.53764014e-02,  4.25406247e-02,  1.24144994e-01,\n",
       "         -9.75544229e-02,  2.70426065e-01,  2.41128802e-01,\n",
       "          1.31408975e-01,  5.87080196e-02,  3.02197814e-01,\n",
       "         -1.62481636e-01, -2.31799200e-01, -3.12461350e-02,\n",
       "         -3.62026811e-01,  4.32216883e-01],\n",
       "        [ 8.88469070e-02, -8.96373689e-02, -4.01210964e-01,\n",
       "          4.12142463e-02, -5.78161418e-01, -7.85965323e-02,\n",
       "         -2.11473197e-01,  2.82215536e-01, -1.67695969e-01,\n",
       "         -4.89512384e-01, -6.80526137e-01,  1.50702149e-01,\n",
       "          2.42835328e-01, -4.39652242e-02,  1.06765583e-01,\n",
       "          6.34791791e-01,  3.48374516e-01],\n",
       "        [ 2.56302983e-01, -1.24705382e-01,  1.46495877e-02,\n",
       "         -2.31537819e-01,  6.08796597e-01, -5.23161113e-01,\n",
       "          6.16770625e-01,  1.90750241e-01,  5.23951948e-01,\n",
       "          7.19590038e-02,  1.62329838e-01, -5.52576669e-02,\n",
       "         -1.14434525e-01, -2.37383008e-01, -3.15098673e-01,\n",
       "          3.45163979e-02, -2.93917805e-01],\n",
       "        [-1.47288784e-01, -4.89552468e-01, -1.10170424e+00,\n",
       "         -5.08741140e-01,  2.25837603e-01, -2.40115687e-01,\n",
       "          2.37539813e-01, -1.12676108e+00, -6.59385502e-01,\n",
       "         -3.53189826e-01,  7.32254982e-01, -1.85145125e-01,\n",
       "         -5.32460660e-02, -4.17592712e-02, -6.13388643e-02,\n",
       "          6.74990296e-01, -1.37346402e-01]], dtype=float32),\n",
       " array([ 0.64447117,  0.71139485, -0.08899718,  0.09223801,  0.0220185 ,\n",
       "        -1.097314  , -0.51475704,  0.24460997,  0.03420989, -0.01010531,\n",
       "         0.45978647,  0.24854682,  0.44464514, -0.02266985,  0.6499378 ,\n",
       "        -0.45776322,  0.19211645], dtype=float32),\n",
       " array([[-0.5442349 ],\n",
       "        [-0.6419724 ],\n",
       "        [ 0.87205446],\n",
       "        [-0.6730735 ],\n",
       "        [-0.42078346],\n",
       "        [ 1.1996965 ],\n",
       "        [ 0.9227267 ],\n",
       "        [ 0.7124218 ],\n",
       "        [-0.55888593],\n",
       "        [-0.82676834],\n",
       "        [ 1.2940798 ],\n",
       "        [-0.47379202],\n",
       "        [-0.5957646 ],\n",
       "        [-0.6692051 ],\n",
       "        [-0.471109  ],\n",
       "        [ 0.90790987],\n",
       "        [-0.6979808 ]], dtype=float32),\n",
       " array([-0.23986603], dtype=float32)]"
      ]
     },
     "execution_count": 38,
     "metadata": {},
     "output_type": "execute_result"
    }
   ],
   "source": [
    "keras_model.get_weights()"
   ]
  }
 ],
 "metadata": {
  "kernelspec": {
   "display_name": "Python 3",
   "language": "python",
   "name": "python3"
  },
  "language_info": {
   "codemirror_mode": {
    "name": "ipython",
    "version": 3
   },
   "file_extension": ".py",
   "mimetype": "text/x-python",
   "name": "python",
   "nbconvert_exporter": "python",
   "pygments_lexer": "ipython3",
   "version": "3.6.2"
  }
 },
 "nbformat": 4,
 "nbformat_minor": 2
}
